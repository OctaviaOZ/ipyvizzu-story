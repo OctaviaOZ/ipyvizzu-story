{
 "cells": [
  {
   "cell_type": "markdown",
   "id": "a892fbda",
   "metadata": {},
   "source": [
    "# ipyvizzu-story - basic example\n",
    "\n",
    "The below chart shows a basic use case for `ipyvizzu-story`. For particular questions on setting up or customizing individual visuals, please see the [ipyvizzu documentation](https://ipyvizzu.vizzuhq.com/tutorial/01_01_intro.html)."
   ]
  },
  {
   "cell_type": "code",
   "execution_count": null,
   "id": "bff7301a",
   "metadata": {},
   "outputs": [],
   "source": [
    "from ipyvizzu import Data, Config\n",
    "from ipyvizzustory import Story, Slide, Step\n",
    "\n",
    "# First, initialize our data. \n",
    "data = Data()\n",
    "data.add_series(\"Foo\", [\"Alice\", \"Bob\", \"Ted\"])\n",
    "data.add_series(\"Bar\", [15, 32, 12])\n",
    "data.add_series(\"Baz\", [5, 3, 2])\n",
    "\n",
    "# Create a blank story, attaching it to our dataset. \n",
    "story = Story(data=data)\n",
    "\n",
    "# Each slide here is a page in the final interactive story\n",
    "# For info on configuring Steps and providing Configs, please see the base ipyvizzu documentation.\n",
    "slide1 = Slide(\n",
    "    Step(\n",
    "        Config({\"x\": \"Foo\", \"y\": \"Bar\"}),\n",
    "    )\n",
    ")\n",
    "story.add_slide(slide1)\n",
    "\n",
    "# Create the second slide.\n",
    "# Configs provided here are changes to the visualization created in the previous Step.\n",
    "slide2 = Slide(\n",
    "    Step(\n",
    "        Config({\"color\": \"Foo\", \"x\": \"Baz\", \"geometry\": \"circle\"}),\n",
    "    )\n",
    ")\n",
    "story.add_slide(slide2)\n",
    "\n",
    "# Display our end story! \n",
    "story.play()"
   ]
  },
  {
   "cell_type": "code",
   "execution_count": null,
   "id": "e63da0aa-4688-49a2-8e36-a25b2fd0517e",
   "metadata": {},
   "outputs": [],
   "source": []
  }
 ],
 "metadata": {
  "kernelspec": {
   "display_name": "Python 3 (ipykernel)",
   "language": "python",
   "name": "python3"
  },
  "language_info": {
   "codemirror_mode": {
    "name": "ipython",
    "version": 3
   },
   "file_extension": ".py",
   "mimetype": "text/x-python",
   "name": "python",
   "nbconvert_exporter": "python",
   "pygments_lexer": "ipython3",
   "version": "3.11.0"
  },
  "title": "ipyvizzu-story - basic example"
 },
 "nbformat": 4,
 "nbformat_minor": 5
}
